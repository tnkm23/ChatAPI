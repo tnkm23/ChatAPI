{
 "cells": [
  {
   "cell_type": "code",
   "execution_count": 1,
   "metadata": {},
   "outputs": [
    {
     "ename": "AuthenticationError",
     "evalue": "Incorrect API key provided: sk-VG. You can find your API key at https://platform.openai.com/account/api-keys.",
     "output_type": "error",
     "traceback": [
      "\u001b[1;31m---------------------------------------------------------------------------\u001b[0m",
      "\u001b[1;31mAuthenticationError\u001b[0m                       Traceback (most recent call last)",
      "Cell \u001b[1;32mIn[1], line 5\u001b[0m\n\u001b[0;32m      2\u001b[0m openai\u001b[38;5;241m.\u001b[39mapi_key \u001b[38;5;241m=\u001b[39m \u001b[38;5;124m\"\u001b[39m\u001b[38;5;124msk-VG\u001b[39m\u001b[38;5;124m\"\u001b[39m\n\u001b[0;32m      3\u001b[0m messages \u001b[38;5;241m=\u001b[39m []\n\u001b[1;32m----> 5\u001b[0m completion \u001b[38;5;241m=\u001b[39m \u001b[43mopenai\u001b[49m\u001b[38;5;241;43m.\u001b[39;49m\u001b[43mChatCompletion\u001b[49m\u001b[38;5;241;43m.\u001b[39;49m\u001b[43mcreate\u001b[49m\u001b[43m(\u001b[49m\u001b[43mmodel\u001b[49m\u001b[38;5;241;43m=\u001b[39;49m\u001b[38;5;124;43m\"\u001b[39;49m\u001b[38;5;124;43mgpt-3.5-turbo\u001b[39;49m\u001b[38;5;124;43m\"\u001b[39;49m\u001b[43m,\u001b[49m\u001b[43m \u001b[49m\u001b[43mmessages\u001b[49m\u001b[38;5;241;43m=\u001b[39;49m\u001b[43m[\u001b[49m\u001b[43m{\u001b[49m\u001b[38;5;124;43m\"\u001b[39;49m\u001b[38;5;124;43mrole\u001b[39;49m\u001b[38;5;124;43m\"\u001b[39;49m\u001b[43m:\u001b[49m\u001b[43m \u001b[49m\u001b[38;5;124;43m\"\u001b[39;49m\u001b[38;5;124;43muser\u001b[39;49m\u001b[38;5;124;43m\"\u001b[39;49m\u001b[43m,\u001b[49m\u001b[43m \u001b[49m\u001b[38;5;124;43m\"\u001b[39;49m\u001b[38;5;124;43mcontent\u001b[39;49m\u001b[38;5;124;43m\"\u001b[39;49m\u001b[43m:\u001b[49m\u001b[43m \u001b[49m\u001b[38;5;124;43m\"\u001b[39;49m\u001b[38;5;124;43mHello world!\u001b[39;49m\u001b[38;5;124;43m\"\u001b[39;49m\u001b[43m}\u001b[49m\u001b[43m]\u001b[49m\u001b[43m)\u001b[49m\n\u001b[0;32m      6\u001b[0m \u001b[38;5;28mprint\u001b[39m(completion\u001b[38;5;241m.\u001b[39mchoices[\u001b[38;5;241m0\u001b[39m]\u001b[38;5;241m.\u001b[39mmessage\u001b[38;5;241m.\u001b[39mcontent)\n",
      "File \u001b[1;32m~\\Anaconda3\\envs\\openai38\\lib\\site-packages\\openai\\api_resources\\chat_completion.py:25\u001b[0m, in \u001b[0;36mChatCompletion.create\u001b[1;34m(cls, *args, **kwargs)\u001b[0m\n\u001b[0;32m     <a href='file:///~/Anaconda3/envs/openai38/lib/site-packages/openai/api_resources/chat_completion.py?line=22'>23</a>\u001b[0m \u001b[39mwhile\u001b[39;00m \u001b[39mTrue\u001b[39;00m:\n\u001b[0;32m     <a href='file:///~/Anaconda3/envs/openai38/lib/site-packages/openai/api_resources/chat_completion.py?line=23'>24</a>\u001b[0m     \u001b[39mtry\u001b[39;00m:\n\u001b[1;32m---> <a href='file:///~/Anaconda3/envs/openai38/lib/site-packages/openai/api_resources/chat_completion.py?line=24'>25</a>\u001b[0m         \u001b[39mreturn\u001b[39;00m \u001b[39msuper\u001b[39;49m()\u001b[39m.\u001b[39;49mcreate(\u001b[39m*\u001b[39;49margs, \u001b[39m*\u001b[39;49m\u001b[39m*\u001b[39;49mkwargs)\n\u001b[0;32m     <a href='file:///~/Anaconda3/envs/openai38/lib/site-packages/openai/api_resources/chat_completion.py?line=25'>26</a>\u001b[0m     \u001b[39mexcept\u001b[39;00m TryAgain \u001b[39mas\u001b[39;00m e:\n\u001b[0;32m     <a href='file:///~/Anaconda3/envs/openai38/lib/site-packages/openai/api_resources/chat_completion.py?line=26'>27</a>\u001b[0m         \u001b[39mif\u001b[39;00m timeout \u001b[39mis\u001b[39;00m \u001b[39mnot\u001b[39;00m \u001b[39mNone\u001b[39;00m \u001b[39mand\u001b[39;00m time\u001b[39m.\u001b[39mtime() \u001b[39m>\u001b[39m start \u001b[39m+\u001b[39m timeout:\n",
      "File \u001b[1;32m~\\Anaconda3\\envs\\openai38\\lib\\site-packages\\openai\\api_resources\\abstract\\engine_api_resource.py:153\u001b[0m, in \u001b[0;36mEngineAPIResource.create\u001b[1;34m(cls, api_key, api_base, api_type, request_id, api_version, organization, **params)\u001b[0m\n\u001b[0;32m    <a href='file:///~/Anaconda3/envs/openai38/lib/site-packages/openai/api_resources/abstract/engine_api_resource.py?line=126'>127</a>\u001b[0m \u001b[39m@classmethod\u001b[39m\n\u001b[0;32m    <a href='file:///~/Anaconda3/envs/openai38/lib/site-packages/openai/api_resources/abstract/engine_api_resource.py?line=127'>128</a>\u001b[0m \u001b[39mdef\u001b[39;00m \u001b[39mcreate\u001b[39m(\n\u001b[0;32m    <a href='file:///~/Anaconda3/envs/openai38/lib/site-packages/openai/api_resources/abstract/engine_api_resource.py?line=128'>129</a>\u001b[0m     \u001b[39mcls\u001b[39m,\n\u001b[1;32m   (...)\u001b[0m\n\u001b[0;32m    <a href='file:///~/Anaconda3/envs/openai38/lib/site-packages/openai/api_resources/abstract/engine_api_resource.py?line=135'>136</a>\u001b[0m     \u001b[39m*\u001b[39m\u001b[39m*\u001b[39mparams,\n\u001b[0;32m    <a href='file:///~/Anaconda3/envs/openai38/lib/site-packages/openai/api_resources/abstract/engine_api_resource.py?line=136'>137</a>\u001b[0m ):\n\u001b[0;32m    <a href='file:///~/Anaconda3/envs/openai38/lib/site-packages/openai/api_resources/abstract/engine_api_resource.py?line=137'>138</a>\u001b[0m     (\n\u001b[0;32m    <a href='file:///~/Anaconda3/envs/openai38/lib/site-packages/openai/api_resources/abstract/engine_api_resource.py?line=138'>139</a>\u001b[0m         deployment_id,\n\u001b[0;32m    <a href='file:///~/Anaconda3/envs/openai38/lib/site-packages/openai/api_resources/abstract/engine_api_resource.py?line=139'>140</a>\u001b[0m         engine,\n\u001b[1;32m   (...)\u001b[0m\n\u001b[0;32m    <a href='file:///~/Anaconda3/envs/openai38/lib/site-packages/openai/api_resources/abstract/engine_api_resource.py?line=149'>150</a>\u001b[0m         api_key, api_base, api_type, api_version, organization, \u001b[39m*\u001b[39m\u001b[39m*\u001b[39mparams\n\u001b[0;32m    <a href='file:///~/Anaconda3/envs/openai38/lib/site-packages/openai/api_resources/abstract/engine_api_resource.py?line=150'>151</a>\u001b[0m     )\n\u001b[1;32m--> <a href='file:///~/Anaconda3/envs/openai38/lib/site-packages/openai/api_resources/abstract/engine_api_resource.py?line=152'>153</a>\u001b[0m     response, _, api_key \u001b[39m=\u001b[39m requestor\u001b[39m.\u001b[39;49mrequest(\n\u001b[0;32m    <a href='file:///~/Anaconda3/envs/openai38/lib/site-packages/openai/api_resources/abstract/engine_api_resource.py?line=153'>154</a>\u001b[0m         \u001b[39m\"\u001b[39;49m\u001b[39mpost\u001b[39;49m\u001b[39m\"\u001b[39;49m,\n\u001b[0;32m    <a href='file:///~/Anaconda3/envs/openai38/lib/site-packages/openai/api_resources/abstract/engine_api_resource.py?line=154'>155</a>\u001b[0m         url,\n\u001b[0;32m    <a href='file:///~/Anaconda3/envs/openai38/lib/site-packages/openai/api_resources/abstract/engine_api_resource.py?line=155'>156</a>\u001b[0m         params\u001b[39m=\u001b[39;49mparams,\n\u001b[0;32m    <a href='file:///~/Anaconda3/envs/openai38/lib/site-packages/openai/api_resources/abstract/engine_api_resource.py?line=156'>157</a>\u001b[0m         headers\u001b[39m=\u001b[39;49mheaders,\n\u001b[0;32m    <a href='file:///~/Anaconda3/envs/openai38/lib/site-packages/openai/api_resources/abstract/engine_api_resource.py?line=157'>158</a>\u001b[0m         stream\u001b[39m=\u001b[39;49mstream,\n\u001b[0;32m    <a href='file:///~/Anaconda3/envs/openai38/lib/site-packages/openai/api_resources/abstract/engine_api_resource.py?line=158'>159</a>\u001b[0m         request_id\u001b[39m=\u001b[39;49mrequest_id,\n\u001b[0;32m    <a href='file:///~/Anaconda3/envs/openai38/lib/site-packages/openai/api_resources/abstract/engine_api_resource.py?line=159'>160</a>\u001b[0m         request_timeout\u001b[39m=\u001b[39;49mrequest_timeout,\n\u001b[0;32m    <a href='file:///~/Anaconda3/envs/openai38/lib/site-packages/openai/api_resources/abstract/engine_api_resource.py?line=160'>161</a>\u001b[0m     )\n\u001b[0;32m    <a href='file:///~/Anaconda3/envs/openai38/lib/site-packages/openai/api_resources/abstract/engine_api_resource.py?line=162'>163</a>\u001b[0m     \u001b[39mif\u001b[39;00m stream:\n\u001b[0;32m    <a href='file:///~/Anaconda3/envs/openai38/lib/site-packages/openai/api_resources/abstract/engine_api_resource.py?line=163'>164</a>\u001b[0m         \u001b[39m# must be an iterator\u001b[39;00m\n\u001b[0;32m    <a href='file:///~/Anaconda3/envs/openai38/lib/site-packages/openai/api_resources/abstract/engine_api_resource.py?line=164'>165</a>\u001b[0m         \u001b[39massert\u001b[39;00m \u001b[39mnot\u001b[39;00m \u001b[39misinstance\u001b[39m(response, OpenAIResponse)\n",
      "File \u001b[1;32m~\\Anaconda3\\envs\\openai38\\lib\\site-packages\\openai\\api_requestor.py:226\u001b[0m, in \u001b[0;36mAPIRequestor.request\u001b[1;34m(self, method, url, params, headers, files, stream, request_id, request_timeout)\u001b[0m\n\u001b[0;32m    <a href='file:///~/Anaconda3/envs/openai38/lib/site-packages/openai/api_requestor.py?line=204'>205</a>\u001b[0m \u001b[39mdef\u001b[39;00m \u001b[39mrequest\u001b[39m(\n\u001b[0;32m    <a href='file:///~/Anaconda3/envs/openai38/lib/site-packages/openai/api_requestor.py?line=205'>206</a>\u001b[0m     \u001b[39mself\u001b[39m,\n\u001b[0;32m    <a href='file:///~/Anaconda3/envs/openai38/lib/site-packages/openai/api_requestor.py?line=206'>207</a>\u001b[0m     method,\n\u001b[1;32m   (...)\u001b[0m\n\u001b[0;32m    <a href='file:///~/Anaconda3/envs/openai38/lib/site-packages/openai/api_requestor.py?line=213'>214</a>\u001b[0m     request_timeout: Optional[Union[\u001b[39mfloat\u001b[39m, Tuple[\u001b[39mfloat\u001b[39m, \u001b[39mfloat\u001b[39m]]] \u001b[39m=\u001b[39m \u001b[39mNone\u001b[39;00m,\n\u001b[0;32m    <a href='file:///~/Anaconda3/envs/openai38/lib/site-packages/openai/api_requestor.py?line=214'>215</a>\u001b[0m ) \u001b[39m-\u001b[39m\u001b[39m>\u001b[39m Tuple[Union[OpenAIResponse, Iterator[OpenAIResponse]], \u001b[39mbool\u001b[39m, \u001b[39mstr\u001b[39m]:\n\u001b[0;32m    <a href='file:///~/Anaconda3/envs/openai38/lib/site-packages/openai/api_requestor.py?line=215'>216</a>\u001b[0m     result \u001b[39m=\u001b[39m \u001b[39mself\u001b[39m\u001b[39m.\u001b[39mrequest_raw(\n\u001b[0;32m    <a href='file:///~/Anaconda3/envs/openai38/lib/site-packages/openai/api_requestor.py?line=216'>217</a>\u001b[0m         method\u001b[39m.\u001b[39mlower(),\n\u001b[0;32m    <a href='file:///~/Anaconda3/envs/openai38/lib/site-packages/openai/api_requestor.py?line=217'>218</a>\u001b[0m         url,\n\u001b[1;32m   (...)\u001b[0m\n\u001b[0;32m    <a href='file:///~/Anaconda3/envs/openai38/lib/site-packages/openai/api_requestor.py?line=223'>224</a>\u001b[0m         request_timeout\u001b[39m=\u001b[39mrequest_timeout,\n\u001b[0;32m    <a href='file:///~/Anaconda3/envs/openai38/lib/site-packages/openai/api_requestor.py?line=224'>225</a>\u001b[0m     )\n\u001b[1;32m--> <a href='file:///~/Anaconda3/envs/openai38/lib/site-packages/openai/api_requestor.py?line=225'>226</a>\u001b[0m     resp, got_stream \u001b[39m=\u001b[39m \u001b[39mself\u001b[39;49m\u001b[39m.\u001b[39;49m_interpret_response(result, stream)\n\u001b[0;32m    <a href='file:///~/Anaconda3/envs/openai38/lib/site-packages/openai/api_requestor.py?line=226'>227</a>\u001b[0m     \u001b[39mreturn\u001b[39;00m resp, got_stream, \u001b[39mself\u001b[39m\u001b[39m.\u001b[39mapi_key\n",
      "File \u001b[1;32m~\\Anaconda3\\envs\\openai38\\lib\\site-packages\\openai\\api_requestor.py:619\u001b[0m, in \u001b[0;36mAPIRequestor._interpret_response\u001b[1;34m(self, result, stream)\u001b[0m\n\u001b[0;32m    <a href='file:///~/Anaconda3/envs/openai38/lib/site-packages/openai/api_requestor.py?line=610'>611</a>\u001b[0m     \u001b[39mreturn\u001b[39;00m (\n\u001b[0;32m    <a href='file:///~/Anaconda3/envs/openai38/lib/site-packages/openai/api_requestor.py?line=611'>612</a>\u001b[0m         \u001b[39mself\u001b[39m\u001b[39m.\u001b[39m_interpret_response_line(\n\u001b[0;32m    <a href='file:///~/Anaconda3/envs/openai38/lib/site-packages/openai/api_requestor.py?line=612'>613</a>\u001b[0m             line, result\u001b[39m.\u001b[39mstatus_code, result\u001b[39m.\u001b[39mheaders, stream\u001b[39m=\u001b[39m\u001b[39mTrue\u001b[39;00m\n\u001b[0;32m    <a href='file:///~/Anaconda3/envs/openai38/lib/site-packages/openai/api_requestor.py?line=613'>614</a>\u001b[0m         )\n\u001b[0;32m    <a href='file:///~/Anaconda3/envs/openai38/lib/site-packages/openai/api_requestor.py?line=614'>615</a>\u001b[0m         \u001b[39mfor\u001b[39;00m line \u001b[39min\u001b[39;00m parse_stream(result\u001b[39m.\u001b[39miter_lines())\n\u001b[0;32m    <a href='file:///~/Anaconda3/envs/openai38/lib/site-packages/openai/api_requestor.py?line=615'>616</a>\u001b[0m     ), \u001b[39mTrue\u001b[39;00m\n\u001b[0;32m    <a href='file:///~/Anaconda3/envs/openai38/lib/site-packages/openai/api_requestor.py?line=616'>617</a>\u001b[0m \u001b[39melse\u001b[39;00m:\n\u001b[0;32m    <a href='file:///~/Anaconda3/envs/openai38/lib/site-packages/openai/api_requestor.py?line=617'>618</a>\u001b[0m     \u001b[39mreturn\u001b[39;00m (\n\u001b[1;32m--> <a href='file:///~/Anaconda3/envs/openai38/lib/site-packages/openai/api_requestor.py?line=618'>619</a>\u001b[0m         \u001b[39mself\u001b[39;49m\u001b[39m.\u001b[39;49m_interpret_response_line(\n\u001b[0;32m    <a href='file:///~/Anaconda3/envs/openai38/lib/site-packages/openai/api_requestor.py?line=619'>620</a>\u001b[0m             result\u001b[39m.\u001b[39;49mcontent\u001b[39m.\u001b[39;49mdecode(\u001b[39m\"\u001b[39;49m\u001b[39mutf-8\u001b[39;49m\u001b[39m\"\u001b[39;49m),\n\u001b[0;32m    <a href='file:///~/Anaconda3/envs/openai38/lib/site-packages/openai/api_requestor.py?line=620'>621</a>\u001b[0m             result\u001b[39m.\u001b[39;49mstatus_code,\n\u001b[0;32m    <a href='file:///~/Anaconda3/envs/openai38/lib/site-packages/openai/api_requestor.py?line=621'>622</a>\u001b[0m             result\u001b[39m.\u001b[39;49mheaders,\n\u001b[0;32m    <a href='file:///~/Anaconda3/envs/openai38/lib/site-packages/openai/api_requestor.py?line=622'>623</a>\u001b[0m             stream\u001b[39m=\u001b[39;49m\u001b[39mFalse\u001b[39;49;00m,\n\u001b[0;32m    <a href='file:///~/Anaconda3/envs/openai38/lib/site-packages/openai/api_requestor.py?line=623'>624</a>\u001b[0m         ),\n\u001b[0;32m    <a href='file:///~/Anaconda3/envs/openai38/lib/site-packages/openai/api_requestor.py?line=624'>625</a>\u001b[0m         \u001b[39mFalse\u001b[39;00m,\n\u001b[0;32m    <a href='file:///~/Anaconda3/envs/openai38/lib/site-packages/openai/api_requestor.py?line=625'>626</a>\u001b[0m     )\n",
      "File \u001b[1;32m~\\Anaconda3\\envs\\openai38\\lib\\site-packages\\openai\\api_requestor.py:682\u001b[0m, in \u001b[0;36mAPIRequestor._interpret_response_line\u001b[1;34m(self, rbody, rcode, rheaders, stream)\u001b[0m\n\u001b[0;32m    <a href='file:///~/Anaconda3/envs/openai38/lib/site-packages/openai/api_requestor.py?line=679'>680</a>\u001b[0m stream_error \u001b[39m=\u001b[39m stream \u001b[39mand\u001b[39;00m \u001b[39m\"\u001b[39m\u001b[39merror\u001b[39m\u001b[39m\"\u001b[39m \u001b[39min\u001b[39;00m resp\u001b[39m.\u001b[39mdata\n\u001b[0;32m    <a href='file:///~/Anaconda3/envs/openai38/lib/site-packages/openai/api_requestor.py?line=680'>681</a>\u001b[0m \u001b[39mif\u001b[39;00m stream_error \u001b[39mor\u001b[39;00m \u001b[39mnot\u001b[39;00m \u001b[39m200\u001b[39m \u001b[39m<\u001b[39m\u001b[39m=\u001b[39m rcode \u001b[39m<\u001b[39m \u001b[39m300\u001b[39m:\n\u001b[1;32m--> <a href='file:///~/Anaconda3/envs/openai38/lib/site-packages/openai/api_requestor.py?line=681'>682</a>\u001b[0m     \u001b[39mraise\u001b[39;00m \u001b[39mself\u001b[39m\u001b[39m.\u001b[39mhandle_error_response(\n\u001b[0;32m    <a href='file:///~/Anaconda3/envs/openai38/lib/site-packages/openai/api_requestor.py?line=682'>683</a>\u001b[0m         rbody, rcode, resp\u001b[39m.\u001b[39mdata, rheaders, stream_error\u001b[39m=\u001b[39mstream_error\n\u001b[0;32m    <a href='file:///~/Anaconda3/envs/openai38/lib/site-packages/openai/api_requestor.py?line=683'>684</a>\u001b[0m     )\n\u001b[0;32m    <a href='file:///~/Anaconda3/envs/openai38/lib/site-packages/openai/api_requestor.py?line=684'>685</a>\u001b[0m \u001b[39mreturn\u001b[39;00m resp\n",
      "\u001b[1;31mAuthenticationError\u001b[0m: Incorrect API key provided: sk-VG. You can find your API key at https://platform.openai.com/account/api-keys."
     ]
    }
   ],
   "source": [
    "import openai\n",
    "openai.api_key = \"sk-VG\"\n",
    "messages = []\n",
    "\n",
    "completion = openai.ChatCompletion.create(model=\"gpt-3.5-turbo\", messages=[{\"role\": \"user\", \"content\": \"Hello world!\"}])\n",
    "print(completion.choices[0].message.content)"
   ]
  },
  {
   "cell_type": "code",
   "execution_count": 22,
   "metadata": {},
   "outputs": [
    {
     "name": "stdout",
     "output_type": "stream",
     "text": [
      "以下はVBAでWagnerの式を使用して飽和蒸気圧を計算するサンプルコードです。\n",
      "\n",
      "```\n",
      "Public Function CalculateSVP(Temperature As Double) As Double\n",
      "     \n",
      "    Dim A As Double, B As Double, C As Double\n",
      "    Dim logP As Double, P As Double\n",
      "     \n",
      "    A = 8.07131\n",
      "    B = 1730.63\n",
      "    C = 233.426\n",
      "    \n",
      "    logP = A - B / (Temperature + C)\n",
      "    P = 10 ^ logP\n",
      "     \n",
      "    CalculateSVP = P\n",
      "     \n",
      "End Function\n",
      "```\n",
      "\n",
      "このサンプルコードでは、関数CalculateSVPに温度値を渡すと、Wagnerの式を用いて飽和蒸気圧を計算しています。関数内で定義されているA、B、CはWagnerの式の定数で、この値が蒸気圧計算に使用されます。温度値は摂氏で渡す前提で書かれている関数なので、必要に応じて華氏・ケルビン単位に変換する必要があります。\n",
      "\n",
      "以下は上記関数の使用例です。\n",
      "\n",
      "```\n",
      "Sub TestCalculateSVP()\n",
      "    Dim tempC As Double, svp As Double\n",
      "    tempC = 25\n",
      "    svp = CalculateSVP(tempC)\n",
      "    MsgBox \"温度が\" & tempC & \"℃の場合の飽和蒸気圧は\" & svp & \"Paです。\"\n",
      "End Sub\n",
      "```\n",
      "\n",
      "関数CalculateSVPをTestCalculateSVPサブルーチンから呼び出し、温度値に25℃を指定しています。温度値を変更することで、異なる温度での飽和蒸気圧を計算することができます。\n",
      "\n",
      "ただし、Wagnerの式自体にはそれぞれの温度に対応した定数が必要であり、上記の定数はあくまでも20~50℃の範囲についてのものとなっています。計算にはこれが使われますが、異なる範囲では別の定数を使用する必要があります。また、Wagnerの式は高圧下では正確な計算結果を得られない場合があるため、留意する必要があります。\n"
     ]
    }
   ],
   "source": [
    "question = \"wagnerの式を使って飽和蒸気圧を算出するvbaコード教えて\"\n",
    "messages.append({\"role\": \"user\", \"content\": question})\n",
    "\n",
    "completion = openai.ChatCompletion.create(model=\"gpt-3.5-turbo\", messages=messages)\n",
    "print(completion.choices[0].message.content)\n",
    "\n",
    "messages.append({\"role\": \"assistant\", \"content\": completion.choices[0].message.content})  "
   ]
  },
  {
   "cell_type": "code",
   "execution_count": 31,
   "metadata": {},
   "outputs": [
    {
     "name": "stdout",
     "output_type": "stream",
     "text": [
      "以下はVBAでWagnerの式を使用して飽和蒸気圧を計算するサンプルコードです。\n",
      "\n",
      "```\n",
      "Public Function CalculateSVP(Temperature As Double) As Double\n",
      "     \n",
      "    Dim A As Double, B As Double, C As Double\n",
      "    Dim logP As Double, P As Double\n",
      "     \n",
      "    A = 8.07131\n",
      "    B = 1730.63\n",
      "    C = 233.426\n",
      "    \n",
      "    logP = A - B / (Temperature + C)\n",
      "    P = 10 ^ logP\n",
      "     \n",
      "    CalculateSVP = P\n",
      "     \n",
      "End Function\n",
      "```\n",
      "\n",
      "このサンプルコードでは、関数CalculateSVPに温度値を渡すと、Wagnerの式を用いて飽和蒸気圧を計算しています。関数内で定義されているA、B、CはWagnerの式の定数で、この値が蒸気圧計算に使用されます。温度値は摂氏で渡す前提で書かれている関数なので、必要に応じて華氏・ケルビン単位に変換する必要があります。\n",
      "\n",
      "以下は上記関数の使用例です。\n",
      "\n",
      "```\n",
      "Sub TestCalculateSVP()\n",
      "    Dim tempC As Double, svp As Double\n",
      "    tempC = 25\n",
      "    svp = CalculateSVP(tempC)\n",
      "    MsgBox \"温度が\" & tempC & \"℃の場合の飽和蒸気圧は\" & svp & \"Paです。\"\n",
      "End Sub\n",
      "```\n",
      "\n",
      "関数CalculateSVPをTestCalculateSVPサブルーチンから呼び出し、温度値に25℃を指定しています。温度値を変更することで、異なる温度での飽和蒸気圧を計算することができます。\n",
      "\n",
      "ただし、Wagnerの式自体にはそれぞれの温度に対応した定数が必要であり、上記の定数はあくまでも20~50℃の範囲についてのものとなっています。計算にはこれが使われますが、異なる範囲では別の定数を使用する必要があります。また、Wagnerの式は高圧下では正確な計算結果を得られない場合があるため、留意する必要があります。\n"
     ]
    }
   ],
   "source": [
    "print(messages[3][\"content\"])"
   ]
  }
 ],
 "metadata": {
  "interpreter": {
   "hash": "520d54a278b184b296eb79d4f7a918b81b9cce1105b4c470592d4f0f79cdec06"
  },
  "kernelspec": {
   "display_name": "Python 3.6.10 ('tf36')",
   "language": "python",
   "name": "python3"
  },
  "language_info": {
   "codemirror_mode": {
    "name": "ipython",
    "version": 3
   },
   "file_extension": ".py",
   "mimetype": "text/x-python",
   "name": "python",
   "nbconvert_exporter": "python",
   "pygments_lexer": "ipython3",
   "version": "3.8.16"
  },
  "orig_nbformat": 4
 },
 "nbformat": 4,
 "nbformat_minor": 2
}
